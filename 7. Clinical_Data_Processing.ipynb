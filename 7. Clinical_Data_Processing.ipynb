{
  "nbformat": 4,
  "nbformat_minor": 0,
  "metadata": {
    "colab": {
      "provenance": [],
      "authorship_tag": "ABX9TyPq2oFgXTr21722cCyyjFqn",
      "include_colab_link": true
    },
    "kernelspec": {
      "name": "python3",
      "display_name": "Python 3"
    },
    "language_info": {
      "name": "python"
    }
  },
  "cells": [
    {
      "cell_type": "markdown",
      "metadata": {
        "id": "view-in-github",
        "colab_type": "text"
      },
      "source": [
        "<a href=\"https://colab.research.google.com/github/khushii812-2/Data-Science-Handouts-/blob/main/7.%20Clinical_Data_Processing.ipynb\" target=\"_parent\"><img src=\"https://colab.research.google.com/assets/colab-badge.svg\" alt=\"Open In Colab\"/></a>"
      ]
    },
    {
      "cell_type": "code",
      "execution_count": null,
      "metadata": {
        "id": "7EA1pVmTH3a4"
      },
      "outputs": [],
      "source": [
        "import pandas as pd\n",
        "import numpy as np\n",
        "from sklearn.impute import KNNImputer\n",
        "from sklearn.preprocessing import LabelEncoder\n",
        "from sklearn.ensemble import RandomForestClassifier\n",
        "from sklearn.model_selection import train_test_split\n",
        "from sklearn.metrics import classification_report"
      ]
    },
    {
      "cell_type": "code",
      "source": [
        "#generating synthetic EHR-like dataset\n",
        "np.random.seed(42)\n",
        "n_samples=200\n",
        "ehr_data= pd.DataFrame({\n",
        "    'age': np.random.randint(30, 80, size=n_samples),\n",
        "    'gender': np.random.choice(['male', 'female'], size=n_samples),\n",
        "    'blood_pressure': np.random.randint(80, 120, size=n_samples),\n",
        "    'heart_rate': np.random.randint(60, 100, size=n_samples),\n",
        "    'diagnosis': np.random.choice([0, 1], size= n_samples)\n",
        "})"
      ],
      "metadata": {
        "id": "OuWJCyGGIvcb"
      },
      "execution_count": null,
      "outputs": []
    },
    {
      "cell_type": "code",
      "source": [
        "#generated dataset\n",
        "print(ehr_data.head())\n",
        "print (ehr_data.info())\n",
        "print (ehr_data.describe())"
      ],
      "metadata": {
        "colab": {
          "base_uri": "https://localhost:8080/"
        },
        "id": "kn5l10v8J5nT",
        "outputId": "faf0f074-3d65-43c1-9999-90d5bc248976"
      },
      "execution_count": null,
      "outputs": [
        {
          "output_type": "stream",
          "name": "stdout",
          "text": [
            "   age  gender  blood_pressure  heart_rate  diagnosis\n",
            "0   68    male              84          79          1\n",
            "1   58    male              98          84          1\n",
            "2   44  female              83          81          1\n",
            "3   72  female             114          72          1\n",
            "4   37  female              96          78          1\n",
            "<class 'pandas.core.frame.DataFrame'>\n",
            "RangeIndex: 200 entries, 0 to 199\n",
            "Data columns (total 5 columns):\n",
            " #   Column          Non-Null Count  Dtype \n",
            "---  ------          --------------  ----- \n",
            " 0   age             200 non-null    int64 \n",
            " 1   gender          200 non-null    object\n",
            " 2   blood_pressure  200 non-null    int64 \n",
            " 3   heart_rate      200 non-null    int64 \n",
            " 4   diagnosis       200 non-null    int64 \n",
            "dtypes: int64(4), object(1)\n",
            "memory usage: 7.9+ KB\n",
            "None\n",
            "              age  blood_pressure  heart_rate   diagnosis\n",
            "count  200.000000      200.000000  200.000000  200.000000\n",
            "mean    54.260000      101.165000   79.225000    0.500000\n",
            "std     14.229716       11.456616   11.572119    0.501255\n",
            "min     30.000000       80.000000   60.000000    0.000000\n",
            "25%     42.000000       91.000000   69.750000    0.000000\n",
            "50%     55.000000      103.000000   78.500000    0.500000\n",
            "75%     67.250000      111.000000   89.000000    1.000000\n",
            "max     79.000000      119.000000   99.000000    1.000000\n"
          ]
        }
      ]
    },
    {
      "cell_type": "code",
      "source": [
        "#Introducing missing value\n",
        "mask= np.random.rand(n_samples)<0.2\n",
        "ehr_data.loc[mask, 'cholesterol']= np.nan\n",
        "mask= np.random.rand(n_samples)<0.1\n",
        "ehr_data.loc[mask, 'blood_pressure']= np.nan"
      ],
      "metadata": {
        "id": "X5LKFA2WKUYl"
      },
      "execution_count": null,
      "outputs": []
    },
    {
      "cell_type": "code",
      "source": [
        "#watch data set after introducting missing values\n",
        "print(\"\\nDataset after introducing missing values:\")\n",
        "print(ehr_data.head())\n",
        "print(ehr_data.info())\n",
        "print(ehr_data.describe())\n",
        "print(ehr_data.isnull().sum())"
      ],
      "metadata": {
        "colab": {
          "base_uri": "https://localhost:8080/"
        },
        "id": "4k8J2Np4LFTm",
        "outputId": "c6a53d84-c853-4dba-fa1c-2567605bad2e"
      },
      "execution_count": null,
      "outputs": [
        {
          "output_type": "stream",
          "name": "stdout",
          "text": [
            "\n",
            "Dataset after introducing missing values:\n",
            "   age  gender  blood_pressure  heart_rate  diagnosis  cholesterol\n",
            "0   68    male            84.0          79          1          NaN\n",
            "1   58    male            98.0          84          1          NaN\n",
            "2   44  female            83.0          81          1          NaN\n",
            "3   72  female           114.0          72          1          NaN\n",
            "4   37  female            96.0          78          1          NaN\n",
            "<class 'pandas.core.frame.DataFrame'>\n",
            "RangeIndex: 200 entries, 0 to 199\n",
            "Data columns (total 6 columns):\n",
            " #   Column          Non-Null Count  Dtype  \n",
            "---  ------          --------------  -----  \n",
            " 0   age             200 non-null    int64  \n",
            " 1   gender          200 non-null    object \n",
            " 2   blood_pressure  180 non-null    float64\n",
            " 3   heart_rate      200 non-null    int64  \n",
            " 4   diagnosis       200 non-null    int64  \n",
            " 5   cholesterol     0 non-null      float64\n",
            "dtypes: float64(2), int64(3), object(1)\n",
            "memory usage: 9.5+ KB\n",
            "None\n",
            "              age  blood_pressure  heart_rate   diagnosis  cholesterol\n",
            "count  200.000000      180.000000  200.000000  200.000000          0.0\n",
            "mean    54.260000      101.027778   79.225000    0.500000          NaN\n",
            "std     14.229716       11.265923   11.572119    0.501255          NaN\n",
            "min     30.000000       80.000000   60.000000    0.000000          NaN\n",
            "25%     42.000000       91.000000   69.750000    0.000000          NaN\n",
            "50%     55.000000      103.000000   78.500000    0.500000          NaN\n",
            "75%     67.250000      111.000000   89.000000    1.000000          NaN\n",
            "max     79.000000      119.000000   99.000000    1.000000          NaN\n",
            "age                 0\n",
            "gender              0\n",
            "blood_pressure     20\n",
            "heart_rate          0\n",
            "diagnosis           0\n",
            "cholesterol       200\n",
            "dtype: int64\n"
          ]
        }
      ]
    },
    {
      "cell_type": "code",
      "source": [
        "imputer = KNNImputer(n_neighbors=5)\n",
        "ehr_data[['cholesterol', 'blood_pressure']]\n",
        "imputer.fit_transform(ehr_data[['cholesterol', 'blood_pressure']])"
      ],
      "metadata": {
        "colab": {
          "base_uri": "https://localhost:8080/"
        },
        "id": "e4pv0bC7UASw",
        "outputId": "95e6a98c-7c4d-4e2c-8479-0130c5576420"
      },
      "execution_count": null,
      "outputs": [
        {
          "output_type": "execute_result",
          "data": {
            "text/plain": [
              "array([[ 84. ],\n",
              "       [ 98. ],\n",
              "       [ 83. ],\n",
              "       [114. ],\n",
              "       [ 96. ],\n",
              "       [107. ],\n",
              "       [107.6],\n",
              "       [108. ],\n",
              "       [ 85. ],\n",
              "       [114. ],\n",
              "       [116. ],\n",
              "       [103. ],\n",
              "       [108. ],\n",
              "       [110. ],\n",
              "       [114. ],\n",
              "       [112. ],\n",
              "       [100. ],\n",
              "       [111. ],\n",
              "       [102. ],\n",
              "       [112. ],\n",
              "       [ 82. ],\n",
              "       [ 97. ],\n",
              "       [104. ],\n",
              "       [110. ],\n",
              "       [ 82. ],\n",
              "       [119. ],\n",
              "       [103. ],\n",
              "       [111. ],\n",
              "       [101. ],\n",
              "       [102. ],\n",
              "       [ 81. ],\n",
              "       [106. ],\n",
              "       [ 81. ],\n",
              "       [105. ],\n",
              "       [ 96. ],\n",
              "       [101.8],\n",
              "       [112. ],\n",
              "       [ 88. ],\n",
              "       [118. ],\n",
              "       [108. ],\n",
              "       [105. ],\n",
              "       [114. ],\n",
              "       [104. ],\n",
              "       [103. ],\n",
              "       [ 92. ],\n",
              "       [ 86. ],\n",
              "       [115. ],\n",
              "       [ 99. ],\n",
              "       [106.6],\n",
              "       [ 87. ],\n",
              "       [ 95. ],\n",
              "       [ 93. ],\n",
              "       [ 91. ],\n",
              "       [102. ],\n",
              "       [ 94. ],\n",
              "       [107. ],\n",
              "       [113. ],\n",
              "       [ 81. ],\n",
              "       [111. ],\n",
              "       [102. ],\n",
              "       [101. ],\n",
              "       [104. ],\n",
              "       [101. ],\n",
              "       [101. ],\n",
              "       [ 85. ],\n",
              "       [ 94. ],\n",
              "       [116. ],\n",
              "       [112. ],\n",
              "       [ 87. ],\n",
              "       [ 84. ],\n",
              "       [118. ],\n",
              "       [ 83. ],\n",
              "       [ 85. ],\n",
              "       [111. ],\n",
              "       [109. ],\n",
              "       [114. ],\n",
              "       [119. ],\n",
              "       [ 95. ],\n",
              "       [104. ],\n",
              "       [109. ],\n",
              "       [ 98. ],\n",
              "       [ 96. ],\n",
              "       [ 98. ],\n",
              "       [107. ],\n",
              "       [105. ],\n",
              "       [116. ],\n",
              "       [105. ],\n",
              "       [102. ],\n",
              "       [ 88. ],\n",
              "       [ 91. ],\n",
              "       [ 80. ],\n",
              "       [ 80. ],\n",
              "       [113. ],\n",
              "       [111. ],\n",
              "       [104. ],\n",
              "       [119. ],\n",
              "       [ 80. ],\n",
              "       [ 95. ],\n",
              "       [ 97.2],\n",
              "       [ 84. ],\n",
              "       [105.4],\n",
              "       [108. ],\n",
              "       [ 82. ],\n",
              "       [ 91. ],\n",
              "       [105. ],\n",
              "       [ 95. ],\n",
              "       [116. ],\n",
              "       [101. ],\n",
              "       [108. ],\n",
              "       [ 93. ],\n",
              "       [107. ],\n",
              "       [ 84. ],\n",
              "       [109. ],\n",
              "       [ 84. ],\n",
              "       [ 91. ],\n",
              "       [ 95. ],\n",
              "       [105. ],\n",
              "       [105. ],\n",
              "       [100. ],\n",
              "       [118. ],\n",
              "       [115. ],\n",
              "       [112. ],\n",
              "       [109. ],\n",
              "       [116. ],\n",
              "       [102. ],\n",
              "       [ 89. ],\n",
              "       [ 95.4],\n",
              "       [103. ],\n",
              "       [ 97. ],\n",
              "       [110. ],\n",
              "       [105.2],\n",
              "       [ 98. ],\n",
              "       [111. ],\n",
              "       [ 80. ],\n",
              "       [ 84. ],\n",
              "       [ 83. ],\n",
              "       [ 95. ],\n",
              "       [103. ],\n",
              "       [ 94. ],\n",
              "       [ 81. ],\n",
              "       [107. ],\n",
              "       [111. ],\n",
              "       [106. ],\n",
              "       [ 99. ],\n",
              "       [103. ],\n",
              "       [ 91. ],\n",
              "       [114. ],\n",
              "       [112. ],\n",
              "       [112. ],\n",
              "       [102.2],\n",
              "       [ 91. ],\n",
              "       [109.6],\n",
              "       [ 80. ],\n",
              "       [112. ],\n",
              "       [119. ],\n",
              "       [ 89. ],\n",
              "       [108. ],\n",
              "       [ 92. ],\n",
              "       [ 91. ],\n",
              "       [110. ],\n",
              "       [ 81. ],\n",
              "       [114. ],\n",
              "       [102. ],\n",
              "       [ 96. ],\n",
              "       [ 99.6],\n",
              "       [ 87. ],\n",
              "       [108. ],\n",
              "       [105. ],\n",
              "       [ 89. ],\n",
              "       [105. ],\n",
              "       [113. ],\n",
              "       [ 86. ],\n",
              "       [ 83. ],\n",
              "       [ 90. ],\n",
              "       [108. ],\n",
              "       [115. ],\n",
              "       [104. ],\n",
              "       [100. ],\n",
              "       [115. ],\n",
              "       [ 89. ],\n",
              "       [116. ],\n",
              "       [ 88. ],\n",
              "       [103. ],\n",
              "       [114. ],\n",
              "       [114. ],\n",
              "       [115. ],\n",
              "       [ 97. ],\n",
              "       [105.8],\n",
              "       [111. ],\n",
              "       [103. ],\n",
              "       [102. ],\n",
              "       [ 94.4],\n",
              "       [ 96.4],\n",
              "       [ 97.2],\n",
              "       [ 96.8],\n",
              "       [101.2],\n",
              "       [104. ],\n",
              "       [114. ],\n",
              "       [109. ],\n",
              "       [ 96. ]])"
            ]
          },
          "metadata": {},
          "execution_count": 26
        }
      ]
    },
    {
      "cell_type": "code",
      "source": [
        "#watch dataset after imputation\n",
        "print(\"\\nDataset after imputation:\")\n",
        "print(ehr_data.head())\n",
        "print(ehr_data.info())\n",
        "print(ehr_data.describe())\n",
        "print(ehr_data.isnull().sum())"
      ],
      "metadata": {
        "colab": {
          "base_uri": "https://localhost:8080/"
        },
        "id": "rWqGJ3NQW4nB",
        "outputId": "7bd77590-4151-4f61-c10d-812bf3a4f983"
      },
      "execution_count": null,
      "outputs": [
        {
          "output_type": "stream",
          "name": "stdout",
          "text": [
            "\n",
            "Dataset after imputation:\n",
            "    age  gender  blood_pressure  heart_rate  diagnosis  cholesterol\n",
            "0  68.0    male            84.0        79.0        1.0          NaN\n",
            "1  58.0    male            98.0        84.0        1.0          NaN\n",
            "2  44.0  female            83.0        81.0        1.0          NaN\n",
            "3  72.0  female           114.0        72.0        1.0          NaN\n",
            "4  37.0  female            96.0        78.0        1.0          NaN\n",
            "<class 'pandas.core.frame.DataFrame'>\n",
            "RangeIndex: 200 entries, 0 to 199\n",
            "Data columns (total 6 columns):\n",
            " #   Column          Non-Null Count  Dtype  \n",
            "---  ------          --------------  -----  \n",
            " 0   age             200 non-null    float64\n",
            " 1   gender          200 non-null    object \n",
            " 2   blood_pressure  182 non-null    float64\n",
            " 3   heart_rate      200 non-null    float64\n",
            " 4   diagnosis       200 non-null    float64\n",
            " 5   cholesterol     0 non-null      float64\n",
            "dtypes: float64(5), object(1)\n",
            "memory usage: 9.5+ KB\n",
            "None\n",
            "              age  blood_pressure  heart_rate   diagnosis  cholesterol\n",
            "count  200.000000      182.000000  200.000000  200.000000          0.0\n",
            "mean    54.260000      100.768132   79.225000    0.500000          NaN\n",
            "std     14.229716       10.878885   11.572119    0.501255          NaN\n",
            "min     30.000000       80.000000   60.000000    0.000000          NaN\n",
            "25%     42.000000       93.000000   69.750000    0.000000          NaN\n",
            "50%     55.000000      102.000000   78.500000    0.500000          NaN\n",
            "75%     67.250000      110.000000   89.000000    1.000000          NaN\n",
            "max     79.000000      119.000000   99.000000    1.000000          NaN\n",
            "age                 0\n",
            "gender              0\n",
            "blood_pressure     18\n",
            "heart_rate          0\n",
            "diagnosis           0\n",
            "cholesterol       200\n",
            "dtype: int64\n"
          ]
        }
      ]
    },
    {
      "cell_type": "code",
      "source": [
        "#Encode categorical feature\n",
        "label_encoder= LabelEncoder()\n",
        "ehr_data['gender']= label_encoder.fit_transform(ehr_data['gender'])"
      ],
      "metadata": {
        "id": "XuL4BNoJXQOj"
      },
      "execution_count": null,
      "outputs": []
    },
    {
      "cell_type": "code",
      "source": [
        "#watch dataset after encoding\n",
        "print(\"\\nDataset after encoding:\")\n",
        "print(ehr_data.head())\n",
        "print(ehr_data.info())\n",
        "print(ehr_data.describe())\n",
        "print(ehr_data.isnull().sum())"
      ],
      "metadata": {
        "colab": {
          "base_uri": "https://localhost:8080/"
        },
        "id": "cKQfulaaXcCN",
        "outputId": "e96f1b43-34b7-46f7-dc4a-d3ccb4704d5b"
      },
      "execution_count": null,
      "outputs": [
        {
          "output_type": "stream",
          "name": "stdout",
          "text": [
            "\n",
            "Dataset after encoding:\n",
            "    age  gender  blood_pressure  heart_rate  diagnosis  cholesterol\n",
            "0  68.0       1            84.0        79.0        1.0          NaN\n",
            "1  58.0       1            98.0        84.0        1.0          NaN\n",
            "2  44.0       0            83.0        81.0        1.0          NaN\n",
            "3  72.0       0           114.0        72.0        1.0          NaN\n",
            "4  37.0       0            96.0        78.0        1.0          NaN\n",
            "<class 'pandas.core.frame.DataFrame'>\n",
            "RangeIndex: 200 entries, 0 to 199\n",
            "Data columns (total 6 columns):\n",
            " #   Column          Non-Null Count  Dtype  \n",
            "---  ------          --------------  -----  \n",
            " 0   age             200 non-null    float64\n",
            " 1   gender          200 non-null    int64  \n",
            " 2   blood_pressure  182 non-null    float64\n",
            " 3   heart_rate      200 non-null    float64\n",
            " 4   diagnosis       200 non-null    float64\n",
            " 5   cholesterol     0 non-null      float64\n",
            "dtypes: float64(5), int64(1)\n",
            "memory usage: 9.5 KB\n",
            "None\n",
            "              age     gender  blood_pressure  heart_rate   diagnosis  \\\n",
            "count  200.000000  200.00000      182.000000  200.000000  200.000000   \n",
            "mean    54.260000    0.45500      100.768132   79.225000    0.500000   \n",
            "std     14.229716    0.49922       10.878885   11.572119    0.501255   \n",
            "min     30.000000    0.00000       80.000000   60.000000    0.000000   \n",
            "25%     42.000000    0.00000       93.000000   69.750000    0.000000   \n",
            "50%     55.000000    0.00000      102.000000   78.500000    0.500000   \n",
            "75%     67.250000    1.00000      110.000000   89.000000    1.000000   \n",
            "max     79.000000    1.00000      119.000000   99.000000    1.000000   \n",
            "\n",
            "       cholesterol  \n",
            "count          0.0  \n",
            "mean           NaN  \n",
            "std            NaN  \n",
            "min            NaN  \n",
            "25%            NaN  \n",
            "50%            NaN  \n",
            "75%            NaN  \n",
            "max            NaN  \n",
            "age                 0\n",
            "gender              0\n",
            "blood_pressure     18\n",
            "heart_rate          0\n",
            "diagnosis           0\n",
            "cholesterol       200\n",
            "dtype: int64\n"
          ]
        }
      ]
    },
    {
      "cell_type": "code",
      "source": [
        "#encode categorical variables\n",
        "ehr_data['gender']= LabelEncoder().fit_transform(ehr_data['gender'])"
      ],
      "metadata": {
        "id": "GV3FpyreXq6g"
      },
      "execution_count": null,
      "outputs": []
    },
    {
      "cell_type": "code",
      "source": [
        "##Impute missing values using KNNImputer\n",
        "# Check for columns with all nulls\n",
        "print(ehr_data.isnull().all())\n",
        "\n",
        "# Drop them before imputing (if needed)\n",
        "ehr_data = ehr_data.dropna(axis=1, how='all')\n",
        "\n",
        "# Make sure only numeric columns are passed to imputer\n",
        "ehr_data = ehr_data.select_dtypes(include=['float64', 'int64'])\n",
        "\n",
        "# Now safe to impute\n",
        "imputer = KNNImputer(n_neighbors=5)\n",
        "ehr_imputed = pd.DataFrame(imputer.fit_transform(ehr_data), columns=ehr_data.columns)\n"
      ],
      "metadata": {
        "colab": {
          "base_uri": "https://localhost:8080/"
        },
        "id": "eymH1B_ZZjUO",
        "outputId": "23e9f3ea-ee71-42ee-92b1-12c212237413"
      },
      "execution_count": null,
      "outputs": [
        {
          "output_type": "stream",
          "name": "stdout",
          "text": [
            "age               False\n",
            "gender            False\n",
            "blood_pressure    False\n",
            "heart_rate        False\n",
            "diagnosis         False\n",
            "dtype: bool\n"
          ]
        }
      ]
    },
    {
      "cell_type": "code",
      "source": [
        "#Heatmap\n",
        "import matplotlib.pyplot as plt\n",
        "import seaborn as sns\n",
        "plt.figure(figsize=(10, 8))\n",
        "sns.heatmap(ehr_data.corr(), annot=True, cmap='coolwarm')\n",
        "plt.title('Correlation Heatmap')\n",
        "plt.show()"
      ],
      "metadata": {
        "colab": {
          "base_uri": "https://localhost:8080/",
          "height": 699
        },
        "id": "4I8muspUZ6Rh",
        "outputId": "de913c01-5d1b-4923-e759-b4dab3f13179"
      },
      "execution_count": null,
      "outputs": [
        {
          "output_type": "display_data",
          "data": {
            "text/plain": [
              "<Figure size 1000x800 with 2 Axes>"
            ],
            "image/png": "[encoded data removed]"
          },
          "metadata": {}
        }
      ]
    },
    {
      "cell_type": "code",
      "source": [
        "#feature-target split\n",
        "x= ehr_data.drop('diagnosis', axis=1)\n",
        "y= ehr_data['diagnosis']"
      ],
      "metadata": {
        "id": "0AdfJWrRaO4b"
      },
      "execution_count": null,
      "outputs": []
    },
    {
      "cell_type": "code",
      "source": [
        "#train-test split\n",
        "x_train, x_test, y_train, y_test= train_test_split(x, y, test_size=0.2, random_state=42)"
      ],
      "metadata": {
        "id": "U0JEx5PdaXDv"
      },
      "execution_count": null,
      "outputs": []
    },
    {
      "cell_type": "code",
      "source": [
        "#look dataset again\n",
        "print(ehr_data.head())\n",
        "print(ehr_data.info())\n",
        "print(ehr_data.describe())\n",
        "print(ehr_data.isnull().sum())"
      ],
      "metadata": {
        "colab": {
          "base_uri": "https://localhost:8080/"
        },
        "id": "xJPXnGogad21",
        "outputId": "89be6f26-4d8c-4f8e-9739-6fd9ff5487d7"
      },
      "execution_count": null,
      "outputs": [
        {
          "output_type": "stream",
          "name": "stdout",
          "text": [
            "    age  gender  blood_pressure  heart_rate  diagnosis\n",
            "0  68.0       1            84.0        79.0        1.0\n",
            "1  58.0       1            98.0        84.0        1.0\n",
            "2  44.0       0            83.0        81.0        1.0\n",
            "3  72.0       0           114.0        72.0        1.0\n",
            "4  37.0       0            96.0        78.0        1.0\n",
            "<class 'pandas.core.frame.DataFrame'>\n",
            "RangeIndex: 200 entries, 0 to 199\n",
            "Data columns (total 5 columns):\n",
            " #   Column          Non-Null Count  Dtype  \n",
            "---  ------          --------------  -----  \n",
            " 0   age             200 non-null    float64\n",
            " 1   gender          200 non-null    int64  \n",
            " 2   blood_pressure  182 non-null    float64\n",
            " 3   heart_rate      200 non-null    float64\n",
            " 4   diagnosis       200 non-null    float64\n",
            "dtypes: float64(4), int64(1)\n",
            "memory usage: 7.9 KB\n",
            "None\n",
            "              age     gender  blood_pressure  heart_rate   diagnosis\n",
            "count  200.000000  200.00000      182.000000  200.000000  200.000000\n",
            "mean    54.260000    0.45500      100.768132   79.225000    0.500000\n",
            "std     14.229716    0.49922       10.878885   11.572119    0.501255\n",
            "min     30.000000    0.00000       80.000000   60.000000    0.000000\n",
            "25%     42.000000    0.00000       93.000000   69.750000    0.000000\n",
            "50%     55.000000    0.00000      102.000000   78.500000    0.500000\n",
            "75%     67.250000    1.00000      110.000000   89.000000    1.000000\n",
            "max     79.000000    1.00000      119.000000   99.000000    1.000000\n",
            "age                0\n",
            "gender             0\n",
            "blood_pressure    18\n",
            "heart_rate         0\n",
            "diagnosis          0\n",
            "dtype: int64\n"
          ]
        }
      ]
    },
    {
      "cell_type": "code",
      "source": [
        "# train a classifier\n",
        "from sklearn.ensemble import RandomForestClassifier\n",
        "clf= RandomForestClassifier(n_estimators=100, random_state=42)\n",
        "clf.fit(x_train, y_train)\n",
        "#evaluate the model\n",
        "y_pred= clf.predict(x_test)\n",
        "print(classification_report(y_test, y_pred))"
      ],
      "metadata": {
        "colab": {
          "base_uri": "https://localhost:8080/"
        },
        "id": "fF29IPytaoDm",
        "outputId": "d328670d-b34a-4dcc-b7b1-f4f715f7311a"
      },
      "execution_count": null,
      "outputs": [
        {
          "output_type": "stream",
          "name": "stdout",
          "text": [
            "              precision    recall  f1-score   support\n",
            "\n",
            "         0.0       0.50      0.43      0.47        23\n",
            "         1.0       0.35      0.41      0.38        17\n",
            "\n",
            "    accuracy                           0.42        40\n",
            "   macro avg       0.42      0.42      0.42        40\n",
            "weighted avg       0.44      0.42      0.43        40\n",
            "\n"
          ]
        }
      ]
    },
    {
      "cell_type": "code",
      "source": [
        "#feature importance visualization\n",
        "importances= clf.feature_importances_\n",
        "features= x.columns\n",
        "indices= np.argsort(importances)[::-1]"
      ],
      "metadata": {
        "id": "9e2I_TjtbGdt"
      },
      "execution_count": null,
      "outputs": []
    },
    {
      "cell_type": "code",
      "source": [
        "plt.figure(figsize=(10, 6))\n",
        "sns.barplot(x=importances[indices], y=features[indices]),\n",
        "palette=\"magma\"\n",
        "plt.xlabel(\"Importance\")\n",
        "plt.ylabel(\"Features\")\n",
        "plt.title(\"Feature Importance\")\n",
        "plt.tight_layout()\n",
        "plt.show()"
      ],
      "metadata": {
        "colab": {
          "base_uri": "https://localhost:8080/",
          "height": 604
        },
        "id": "CA8HzMBObWbO",
        "outputId": "5e2bb903-e0d3-4b0c-d688-667d4e0346c1"
      },
      "execution_count": null,
      "outputs": [
        {
          "output_type": "display_data",
          "data": {
            "text/plain": [
              "<Figure size 1000x600 with 1 Axes>"
            ],
            "image/png": "[encoded data removed]"
          },
          "metadata": {}
        }
      ]
    },
    {
      "cell_type": "code",
      "source": [
        "#Roc curve\n",
        "from sklearn.metrics import roc_curve, auc\n",
        "probs= clf.predict_proba(x_test)[:, 1]\n",
        "fpr, tpr, thresholds= roc_curve(y_test, probs)\n",
        "roc_auc= auc(fpr, tpr)\n",
        "plt.figure()\n",
        "plt.plot(fpr, tpr, color='darkorange', lw=2, label='ROC curve (area = %0.2f)' % roc_auc)\n",
        "plt.plot([0, 1], [0, 1], color='navy', lw=2, linestyle='--')\n",
        "plt.xlim([0.0, 1.0])\n",
        "plt.ylim([0.0, 1.05])\n",
        "plt.xlabel('False Positive Rate')\n",
        "plt.ylabel('True Positive Rate')\n",
        "plt.title('Receiver Operating Characteristic')\n",
        "plt.legend(loc=\"lower right\")\n",
        "plt.show()"
      ],
      "metadata": {
        "colab": {
          "base_uri": "https://localhost:8080/",
          "height": 472
        },
        "id": "AI1qwf6Rb90W",
        "outputId": "3f0237d5-eec7-4a35-f4cc-85372d8a235b"
      },
      "execution_count": null,
      "outputs": [
        {
          "output_type": "display_data",
          "data": {
            "text/plain": [
              "<Figure size 640x480 with 1 Axes>"
            ],
            "image/png": "[encoded data removed]"
          },
          "metadata": {}
        }
      ]
    }
  ]
}