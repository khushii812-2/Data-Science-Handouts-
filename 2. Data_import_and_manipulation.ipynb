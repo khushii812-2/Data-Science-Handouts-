{
  "nbformat": 4,
  "nbformat_minor": 0,
  "metadata": {
    "colab": {
      "provenance": [],
      "authorship_tag": "ABX9TyOIpgzeQ+HwHugD14VzMwUs",
      "include_colab_link": true
    },
    "kernelspec": {
      "name": "python3",
      "display_name": "Python 3"
    },
    "language_info": {
      "name": "python"
    }
  },
  "cells": [
    {
      "cell_type": "markdown",
      "metadata": {
        "id": "view-in-github",
        "colab_type": "text"
      },
      "source": [
        "<a href=\"https://colab.research.google.com/github/khushii812-2/Data-Science-Handouts-/blob/main/2.%20Data_import_and_manipulation.ipynb\" target=\"_parent\"><img src=\"https://colab.research.google.com/assets/colab-badge.svg\" alt=\"Open In Colab\"/></a>"
      ]
    },
    {
      "cell_type": "code",
      "source": [
        "import pandas as pd\n",
        "import matplotlib.pyplot as plt\n",
        "import seaborn as sns\n",
        "import numpy as np"
      ],
      "metadata": {
        "id": "EwWqdfxKHfsA"
      },
      "execution_count": null,
      "outputs": []
    },
    {
      "cell_type": "code",
      "source": [
        "file_path='GSE183947_fpkm.csv'"
      ],
      "metadata": {
        "id": "WdbZcAV1I6hY"
      },
      "execution_count": null,
      "outputs": []
    },
    {
      "cell_type": "code",
      "source": [
        "import gzip\n",
        "import pandas as pd\n",
        "\n",
        "# Path to your downloaded file\n",
        "file_path = \"D:/DEFAULT DOWNLOADS/GSE183947_fpkm.csv.gz\"\n",
        "\n",
        "# Open and read directly using pandas\n",
        "try:\n",
        "    df = pd.read_csv(file_path, compression='gzip')\n",
        "    print(\"File loaded successfully!\")\n",
        "    print(df.head())  # shows top 5 rows\n",
        "except Exception as e:\n",
        "    print(\"Error reading the file:\", e)"
      ],
      "metadata": {
        "colab": {
          "base_uri": "https://localhost:8080/"
        },
        "id": "a-5iDYHSJLqi",
        "outputId": "87ce7e1d-bcf0-4dcb-ab21-6b81ea8106df"
      },
      "execution_count": null,
      "outputs": [
        {
          "output_type": "stream",
          "name": "stdout",
          "text": [
            "Error reading the file: [Errno 2] No such file or directory: 'D:/DEFAULT DOWNLOADS/GSE183947_fpkm.csv.gz'\n"
          ]
        }
      ]
    }
  ]
}